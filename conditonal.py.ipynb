{
 "cells": [
  {
   "cell_type": "markdown",
   "metadata": {},
   "source": [
    "# control flow statements\n",
    "\n"
   ]
  },
  {
   "cell_type": "code",
   "execution_count": 7,
   "metadata": {},
   "outputs": [
    {
     "name": "stdout",
     "output_type": "stream",
     "text": [
      "enter x:52\n",
      "enter y:41\n",
      "52 is the largest number\n"
     ]
    }
   ],
   "source": [
    "x = int(input(\"enter x:\"))\n",
    "y = int(input(\"enter y:\"))\n",
    "if x>y:\n",
    "    print(f\"{x} is the largest number\")\n",
    "else:\n",
    "    print(f\"{y} is the largest number\")"
   ]
  },
  {
   "cell_type": "code",
   "execution_count": 9,
   "metadata": {},
   "outputs": [
    {
     "name": "stdout",
     "output_type": "stream",
     "text": [
      "enter x:15\n",
      "enter y:30\n",
      "450\n"
     ]
    }
   ],
   "source": [
    "x= int(input(\"enter x:\"))\n",
    "y= int(input(\"enter y:\"))\n",
    "print(x*y)"
   ]
  },
  {
   "cell_type": "code",
   "execution_count": 12,
   "metadata": {},
   "outputs": [
    {
     "name": "stdout",
     "output_type": "stream",
     "text": [
      "enter a number0\n",
      "zero\n"
     ]
    }
   ],
   "source": [
    "x= int(input(\"enter a number\"))\n",
    "if x==0:\n",
    "    print(\"zero\")\n",
    "elif x>0:\n",
    "    print(\"positive\")\n",
    "else:\n",
    "    print(\"negative\")"
   ]
  },
  {
   "cell_type": "code",
   "execution_count": 13,
   "metadata": {},
   "outputs": [
    {
     "name": "stdout",
     "output_type": "stream",
     "text": [
      "1\n",
      "2\n",
      "3\n",
      "4\n",
      "5\n",
      "6\n",
      "7\n",
      "8\n",
      "9\n",
      "10\n"
     ]
    }
   ],
   "source": [
    "n =1\n",
    "while n<=10:\n",
    "    print(n)\n",
    "    n=n+1"
   ]
  },
  {
   "cell_type": "code",
   "execution_count": 14,
   "metadata": {},
   "outputs": [
    {
     "name": "stdout",
     "output_type": "stream",
     "text": [
      "10\n",
      "9\n",
      "8\n",
      "7\n",
      "6\n",
      "5\n",
      "4\n",
      "3\n",
      "2\n",
      "1\n"
     ]
    }
   ],
   "source": [
    "n= 10\n",
    "while n>0:\n",
    "    print(n)\n",
    "    n=n-1"
   ]
  },
  {
   "cell_type": "code",
   "execution_count": 21,
   "metadata": {},
   "outputs": [
    {
     "name": "stdout",
     "output_type": "stream",
     "text": [
      "enter 1st limit:10\n",
      "enter 2nd limit:1\n",
      "10\n",
      "9\n",
      "8\n",
      "7\n",
      "6\n",
      "5\n",
      "4\n",
      "3\n",
      "2\n",
      "1\n"
     ]
    }
   ],
   "source": [
    "x = int(input(\"enter 1st limit:\"))\n",
    "y = int(input(\"enter 2nd limit:\"))\n",
    "n = x\n",
    "if x>y:\n",
    "    while(n>=y):\n",
    "        print(n)\n",
    "        n=n-1\n",
    "else:\n",
    "    while(n<=y):\n",
    "        print(n)\n",
    "        n=n+1"
   ]
  },
  {
   "cell_type": "code",
   "execution_count": 3,
   "metadata": {},
   "outputs": [
    {
     "name": "stdout",
     "output_type": "stream",
     "text": [
      "enter 1st limit:1\n",
      "enter 2nd limit:100\n",
      "2450\n"
     ]
    }
   ],
   "source": [
    "x = int(input(\"enter 1st limit:\"))\n",
    "y = int(input(\"enter 2nd limit:\"))\n",
    "sum=0\n",
    "while(x<y):\n",
    "    if(x%2==0):\n",
    "        sum = sum + x\n",
    "    x=x+1\n",
    "print(sum)"
   ]
  },
  {
   "cell_type": "code",
   "execution_count": 5,
   "metadata": {},
   "outputs": [
    {
     "name": "stdout",
     "output_type": "stream",
     "text": [
      "enter a number:156\n",
      "6\n",
      "5\n",
      "1\n"
     ]
    }
   ],
   "source": [
    "x = int(input(\"enter a number:\"))\n",
    "while(x!=0):\n",
    "    r = x%10\n",
    "    print(r)\n",
    "    x = x//10"
   ]
  },
  {
   "cell_type": "code",
   "execution_count": 7,
   "metadata": {},
   "outputs": [
    {
     "name": "stdout",
     "output_type": "stream",
     "text": [
      "enter a number:156\n",
      "651\n"
     ]
    }
   ],
   "source": [
    "x = int(input(\"enter a number:\"))\n",
    "rev=0\n",
    "while(x!=0):\n",
    "    r = x%10\n",
    "    rev =rev*10 + r\n",
    "    x = x//10\n",
    "print(rev)"
   ]
  },
  {
   "cell_type": "markdown",
   "metadata": {},
   "source": [
    "# input\n",
    "            a number\n",
    "# output\n",
    "            sum of even digits"
   ]
  },
  {
   "cell_type": "code",
   "execution_count": 10,
   "metadata": {},
   "outputs": [
    {
     "name": "stdout",
     "output_type": "stream",
     "text": [
      "enter a number:1889\n",
      "16\n"
     ]
    }
   ],
   "source": [
    "x = int(input(\"enter a number:\"))\n",
    "rev=0\n",
    "while(x!=0):\n",
    "    r = x%10\n",
    "    if r%2==0:\n",
    "        rev =rev + r\n",
    "    x = x//10\n",
    "print(rev)"
   ]
  },
  {
   "cell_type": "code",
   "execution_count": 1,
   "metadata": {},
   "outputs": [
    {
     "name": "stdout",
     "output_type": "stream",
     "text": [
      "enter a number 156\n",
      " six five one\n"
     ]
    }
   ],
   "source": [
    "x = int(input('enter a number '))\n",
    "str = ''\n",
    "while x!=0:\n",
    "    r=x%10\n",
    "    if r==0:\n",
    "        str = str + ' Zero'\n",
    "    elif r==1:\n",
    "        str = str + ' one'\n",
    "    elif r==2:\n",
    "        str = str + ' two'\n",
    "    elif r==3:\n",
    "        str = str + ' three'\n",
    "    elif r==4:\n",
    "        str = str + ' four'\n",
    "    elif r==5:\n",
    "        str = str + ' five'\n",
    "    elif r==6:\n",
    "        str = str + ' six'\n",
    "    elif r==7:\n",
    "        str = str + ' seven'\n",
    "    elif r==8:\n",
    "        str = str + ' eight'\n",
    "    elif r==9:\n",
    "        str = str + ' nine'\n",
    "    x=x//10\n",
    "print(str)"
   ]
  },
  {
   "cell_type": "code",
   "execution_count": 10,
   "metadata": {},
   "outputs": [
    {
     "name": "stdout",
     "output_type": "stream",
     "text": [
      "enter a digit2\n",
      "enter a number120\n",
      "enter a number220\n",
      "42\n"
     ]
    }
   ],
   "source": [
    "num = int(input('enter a digit'))\n",
    "x = int(input('enter a number'))\n",
    "y = int(input('enter a number'))\n",
    "count =0\n",
    "while x <= y:\n",
    "    stat = x\n",
    "    while stat!=0:\n",
    "        r = stat%10\n",
    "        if num == r:\n",
    "            count = count + 1\n",
    "        stat= stat//10\n",
    "    x=x+1\n",
    "print(count)\n",
    "        "
   ]
  },
  {
   "cell_type": "code",
   "execution_count": 14,
   "metadata": {},
   "outputs": [
    {
     "name": "stdout",
     "output_type": "stream",
     "text": [
      "enter a number2\n",
      "2\n"
     ]
    }
   ],
   "source": [
    "def fact(n):\n",
    "    fact = 1\n",
    "    while (n!=1):\n",
    "        fact = fact * n\n",
    "        n=n-1\n",
    "    print(fact)\n",
    "x = int(input(\"enter a number\"))\n",
    "fact(x)"
   ]
  },
  {
   "cell_type": "code",
   "execution_count": 20,
   "metadata": {},
   "outputs": [
    {
     "name": "stdout",
     "output_type": "stream",
     "text": [
      "enter a number: 1\n",
      "enter last limit: 100\n",
      "18\n"
     ]
    }
   ],
   "source": [
    "def count_palin(n1,n2):\n",
    "    count = 0\n",
    "    while n1<=n2:\n",
    "        stat = n1\n",
    "        rev = 0 \n",
    "        while stat != 0:\n",
    "            r= stat%10\n",
    "            rev = rev*10 + r\n",
    "            stat =stat//10\n",
    "        if rev == n1:\n",
    "            count =count+1\n",
    "        n1 = n1+1\n",
    "    return count\n",
    "\n",
    "x = int(input(\"enter a number: \"))\n",
    "y = int(input(\"enter last limit: \"))\n",
    "print(count_palin(x,y))"
   ]
  },
  {
   "cell_type": "markdown",
   "metadata": {},
   "source": [
    "# fact list"
   ]
  },
  {
   "cell_type": "code",
   "execution_count": 3,
   "metadata": {},
   "outputs": [
    {
     "name": "stdout",
     "output_type": "stream",
     "text": [
      "1\n",
      "2\n",
      "3\n",
      "4\n",
      "6\n"
     ]
    }
   ],
   "source": [
    "def factor(n):\n",
    "    count = 0\n",
    "    i=1\n",
    "    while i<=n//2:\n",
    "        if n%i==0:\n",
    "            print(i)\n",
    "        i= i+1\n",
    "factor(12)"
   ]
  },
  {
   "cell_type": "markdown",
   "metadata": {},
   "source": [
    "# python list"
   ]
  },
  {
   "cell_type": "code",
   "execution_count": 13,
   "metadata": {},
   "outputs": [
    {
     "name": "stdout",
     "output_type": "stream",
     "text": [
      "1\n",
      "2\n",
      "3\n",
      "4\n",
      "5\n",
      "[2, 3, 4, 5]\n",
      "[2, 3, 4]\n",
      "[3]\n",
      "[1, 3, 5]\n",
      "[1, 4]\n"
     ]
    }
   ],
   "source": [
    "list1 = [1,2,3,4,5]\n",
    "for i in list1:\n",
    "    print(i)\n",
    "print(list1[1:5])\n",
    "print(list1[1:-1])\n",
    "print(list1[2:-2])\n",
    "print(list1[::2])\n",
    "print(list1[::3])"
   ]
  },
  {
   "cell_type": "code",
   "execution_count": 19,
   "metadata": {},
   "outputs": [
    {
     "name": "stdout",
     "output_type": "stream",
     "text": [
      "enter a number1\n",
      "enter a number2\n",
      "enter a number3\n",
      "enter a number4\n",
      "enter a number5\n",
      "[1, 2, 3, 4, 5]\n"
     ]
    }
   ],
   "source": [
    "list = []\n",
    "for x in range(0,5):\n",
    "    \n",
    "    list=list+[int(input('enter a number'))]\n",
    "    \n",
    "print(list)"
   ]
  },
  {
   "cell_type": "code",
   "execution_count": 23,
   "metadata": {},
   "outputs": [
    {
     "name": "stdout",
     "output_type": "stream",
     "text": [
      "enter a number1\n",
      "enter a number2\n",
      "enter a number3\n",
      "enter a number4\n",
      "enter a number5\n",
      "[1, 2, 3, 4, 5]\n"
     ]
    }
   ],
   "source": [
    "list = []\n",
    "for x in range(0,5):\n",
    "    \n",
    "    list.append(int(input('enter a number')))\n",
    "    \n",
    "print(list)\n"
   ]
  },
  {
   "cell_type": "code",
   "execution_count": 27,
   "metadata": {},
   "outputs": [],
   "source": [
    "list = [\"skjad\",\"dfjsahof\"]\n",
    "try:\n",
    "    loc = list.index(\"ssgsdgsfg\")\n",
    "    print(loc)\n",
    "except Exception:\n",
    "    pass"
   ]
  },
  {
   "cell_type": "code",
   "execution_count": 28,
   "metadata": {},
   "outputs": [
    {
     "name": "stdout",
     "output_type": "stream",
     "text": [
      "['kaif', 'pathan', 'ali', 'khan']\n"
     ]
    }
   ],
   "source": [
    "list = [\"kaif\",\"ali\",\"khan\"]\n",
    "list.insert(1,\"pathan\")\n",
    "print(list)"
   ]
  },
  {
   "cell_type": "code",
   "execution_count": 29,
   "metadata": {},
   "outputs": [
    {
     "name": "stdout",
     "output_type": "stream",
     "text": [
      "['khan', 'ali', 'pathan', 'kaif']\n"
     ]
    }
   ],
   "source": [
    "list.reverse()\n",
    "print(list)"
   ]
  },
  {
   "cell_type": "code",
   "execution_count": null,
   "metadata": {},
   "outputs": [],
   "source": []
  }
 ],
 "metadata": {
  "kernelspec": {
   "display_name": "Python 3",
   "language": "python",
   "name": "python3"
  },
  "language_info": {
   "codemirror_mode": {
    "name": "ipython",
    "version": 3
   },
   "file_extension": ".py",
   "mimetype": "text/x-python",
   "name": "python",
   "nbconvert_exporter": "python",
   "pygments_lexer": "ipython3",
   "version": "3.7.3"
  }
 },
 "nbformat": 4,
 "nbformat_minor": 2
}
