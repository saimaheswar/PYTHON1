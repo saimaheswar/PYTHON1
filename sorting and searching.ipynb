{
 "cells": [
  {
   "cell_type": "markdown",
   "metadata": {},
   "source": [
    "## binary search algorithm"
   ]
  },
  {
   "cell_type": "code",
   "execution_count": 12,
   "metadata": {},
   "outputs": [
    {
     "name": "stdout",
     "output_type": "stream",
     "text": [
      "not found\n"
     ]
    }
   ],
   "source": [
    "def binary_search(a,ele):\n",
    "    low = 0\n",
    "    high = len(a) - 1\n",
    "    flag = 0\n",
    "    while low<=high:    \n",
    "        mid = (low + high)//2\n",
    "        if a[mid]==ele:\n",
    "            flag = 1\n",
    "            break\n",
    "        elif a[mid]>ele:\n",
    "            high = mid-1\n",
    "        else:\n",
    "            low = mid+1\n",
    "    if flag == 1:\n",
    "        print(\"found\")\n",
    "    else:\n",
    "        print(\"not found\")\n",
    "a= [1,21,34,56,75,90,98]\n",
    "binary_search(a,78)"
   ]
  },
  {
   "cell_type": "markdown",
   "metadata": {},
   "source": [
    "## sorting algorithms\n",
    "    1. bubble sort\n",
    "    2. merge sort\n",
    "    3. quick sort"
   ]
  },
  {
   "cell_type": "markdown",
   "metadata": {},
   "source": [
    "### bubble sort"
   ]
  },
  {
   "cell_type": "code",
   "execution_count": 38,
   "metadata": {},
   "outputs": [
    {
     "name": "stdout",
     "output_type": "stream",
     "text": [
      "[3, 25, 31]\n"
     ]
    }
   ],
   "source": [
    "def sort(a):\n",
    "    for j in range(len(a)-1):\n",
    "        flag = 0\n",
    "        for i in range(len(a)-j-1):\n",
    "            if a[i]>a[i+1]:\n",
    "                a[i+1] = a[i]+a[i+1]\n",
    "                a[i] = a[i+1] - a[i]\n",
    "                a[i+1] = a[i+1] - a[i]\n",
    "                flag = 1\n",
    "        if flag == 0:\n",
    "            break\n",
    "a=[31,25,3]\n",
    "sort(a)\n",
    "print(a)"
   ]
  },
  {
   "cell_type": "code",
   "execution_count": 40,
   "metadata": {},
   "outputs": [
    {
     "name": "stdout",
     "output_type": "stream",
     "text": [
      "[3, 25, 31]\n"
     ]
    }
   ],
   "source": [
    "def sort(a):\n",
    "    for j in range(len(a)-1):\n",
    "        flag = 0\n",
    "        for i in range(len(a)-j-1):\n",
    "            if a[i]>a[i+1]:\n",
    "                a[i],a[i+1] = a[i+1],a[i]\n",
    "                flag = 1\n",
    "        if flag == 0:\n",
    "            break\n",
    "a=[31,25,3]\n",
    "sort(a)\n",
    "print(a)"
   ]
  },
  {
   "cell_type": "code",
   "execution_count": 45,
   "metadata": {},
   "outputs": [],
   "source": [
    "a = \"\"\"kaif\n",
    "ali \n",
    "khan\"\"\""
   ]
  },
  {
   "cell_type": "code",
   "execution_count": 48,
   "metadata": {},
   "outputs": [
    {
     "name": "stdout",
     "output_type": "stream",
     "text": [
      "5\n"
     ]
    }
   ],
   "source": [
    "def count_upper(str):\n",
    "    count = 0\n",
    "    for i in range(len(str)):\n",
    "        if ord(str[i])>65 and ord(str[i])<90:\n",
    "            count = count+1\n",
    "    return count\n",
    "print(count_upper(\"HeLLso WorLd\"))"
   ]
  },
  {
   "cell_type": "code",
   "execution_count": 50,
   "metadata": {},
   "outputs": [
    {
     "name": "stdout",
     "output_type": "stream",
     "text": [
      "5\n",
      "4\n",
      "5\n",
      "5\n"
     ]
    }
   ],
   "source": [
    "def number_print(str):\n",
    "    for i in range(len(str)):\n",
    "        if ord(str[i])>48 and ord(str[i])<57:\n",
    "            print(str[i])\n",
    "number_print(\"asgsdf5df4sfs5df5sf\")"
   ]
  },
  {
   "cell_type": "code",
   "execution_count": 2,
   "metadata": {},
   "outputs": [
    {
     "name": "stdout",
     "output_type": "stream",
     "text": [
      "17\n"
     ]
    }
   ],
   "source": [
    "def number_print(str):\n",
    "    sum = 0\n",
    "    for i in range(len(str)):\n",
    "        if ord(str[i])>=48 and ord(str[i])<=57:\n",
    "            num = ord(str[i]) - 48\n",
    "            sum = sum + num\n",
    "    print(sum)\n",
    "number_print(\"asdf15sd2d15sa21d\")"
   ]
  },
  {
   "cell_type": "code",
   "execution_count": 4,
   "metadata": {},
   "outputs": [
    {
     "name": "stdout",
     "output_type": "stream",
     "text": [
      "16\n"
     ]
    }
   ],
   "source": [
    "def number_print(str):\n",
    "    sum = 0\n",
    "    for i in range(len(str)):\n",
    "        if ord(str[i])>=48 and ord(str[i])<=57:\n",
    "            num = ord(str[i]) - 48\n",
    "            if num%2==0:\n",
    "                sum = sum + num\n",
    "    print(sum)\n",
    "number_print(\"Application1889\")"
   ]
  },
  {
   "cell_type": "code",
   "execution_count": 23,
   "metadata": {},
   "outputs": [
    {
     "name": "stdout",
     "output_type": "stream",
     "text": [
      "I love IRONMAN 3000\n"
     ]
    }
   ],
   "source": [
    "def case_converter(str):\n",
    "    b=''\n",
    "    for i in range(len(str)):\n",
    "        if ord(str[i])>=65 and ord(str[i])<=90:\n",
    "            ch = chr(ord(str[i]) + 32)\n",
    "            b = b+ch\n",
    "        elif ord(str[i])>=97 and ord(str[i])<=122:\n",
    "            ch = chr(ord(str[i]) - 32)\n",
    "            b = b+ch\n",
    "        else:\n",
    "            b = b+str[i]\n",
    "    print(b)\n",
    "case_converter(\"i LOVE ironman 3000\")         \n",
    "            "
   ]
  },
  {
   "cell_type": "code",
   "execution_count": 26,
   "metadata": {},
   "outputs": [
    {
     "name": "stdout",
     "output_type": "stream",
     "text": [
      "axby\n"
     ]
    }
   ],
   "source": [
    "def adj(str1,str2):\n",
    "    str = ''\n",
    "    if len(str1)>=len(str2):\n",
    "        size = len(str1)\n",
    "    else:\n",
    "        size = len(str2)\n",
    "    for i in range(size):\n",
    "        if i in range(len(str1)):\n",
    "            str = str + str1[i]\n",
    "        if i in range(len(str2)):\n",
    "            str = str + str2[i]\n",
    "    return str\n",
    "str1 = \"ab\"\n",
    "str2 = \"xy\"\n",
    "print(adj(str1,str2))"
   ]
  }
 ],
 "metadata": {
  "kernelspec": {
   "display_name": "Python 3",
   "language": "python",
   "name": "python3"
  },
  "language_info": {
   "codemirror_mode": {
    "name": "ipython",
    "version": 3
   },
   "file_extension": ".py",
   "mimetype": "text/x-python",
   "name": "python",
   "nbconvert_exporter": "python",
   "pygments_lexer": "ipython3",
   "version": "3.7.3"
  }
 },
 "nbformat": 4,
 "nbformat_minor": 2
}
