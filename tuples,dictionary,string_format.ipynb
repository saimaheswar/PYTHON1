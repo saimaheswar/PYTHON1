{
 "cells": [
  {
   "cell_type": "code",
   "execution_count": 23,
   "metadata": {},
   "outputs": [
    {
     "name": "stdout",
     "output_type": "stream",
     "text": [
      "kaif ali KHAN\n"
     ]
    }
   ],
   "source": [
    "def specifCount(stri,n):\n",
    "    try:\n",
    "        lst = stri.split(\" \")\n",
    "        lst[n-1] = lst[n-1].upper()\n",
    "        stri = ''\n",
    "        stri = \" \".join(lst)\n",
    "        return stri\n",
    "    except IndexError:\n",
    "        return \"index is out of range\"\n",
    "print(specifCount(\"kaif ali khan\",3))"
   ]
  },
  {
   "cell_type": "markdown",
   "metadata": {},
   "source": [
    "## Boolean methods\n",
    "##### isupper()\n",
    "##### islower()\n",
    "##### isnumeric()\n",
    "##### isalpha()\n",
    "##### istitle() --- starting letter should be in upper case of each word.\n",
    "##### isspace()"
   ]
  },
  {
   "cell_type": "code",
   "execution_count": 13,
   "metadata": {},
   "outputs": [
    {
     "name": "stdout",
     "output_type": "stream",
     "text": [
      "True\n"
     ]
    }
   ],
   "source": [
    "s = \"kaif ali khan\"\n",
    "print(s.islower())"
   ]
  },
  {
   "cell_type": "code",
   "execution_count": 16,
   "metadata": {},
   "outputs": [
    {
     "name": "stdout",
     "output_type": "stream",
     "text": [
      "False\n"
     ]
    }
   ],
   "source": [
    "s=\"1234\"\n",
    "print(s.isalpha())"
   ]
  },
  {
   "cell_type": "code",
   "execution_count": 18,
   "metadata": {},
   "outputs": [
    {
     "name": "stdout",
     "output_type": "stream",
     "text": [
      "True\n"
     ]
    }
   ],
   "source": [
    "s=\"1234\"\n",
    "print(s.isnumeric())"
   ]
  },
  {
   "cell_type": "code",
   "execution_count": 1,
   "metadata": {},
   "outputs": [
    {
     "name": "stdout",
     "output_type": "stream",
     "text": [
      "True\n"
     ]
    }
   ],
   "source": [
    "s = \"Kaif Ali Khan\"\n",
    "print(s.istitle())"
   ]
  },
  {
   "cell_type": "markdown",
   "metadata": {},
   "source": [
    "### Tuples"
   ]
  },
  {
   "cell_type": "code",
   "execution_count": 1,
   "metadata": {},
   "outputs": [
    {
     "name": "stdout",
     "output_type": "stream",
     "text": [
      "('hello', 'world', '404 error', 123123, 213)\n"
     ]
    }
   ],
   "source": [
    "t1=(\"hello\",\"world\",\"404 error\",123123,213)\n",
    "print(t1)"
   ]
  },
  {
   "cell_type": "markdown",
   "metadata": {},
   "source": [
    "### dictionaries"
   ]
  },
  {
   "cell_type": "code",
   "execution_count": 20,
   "metadata": {},
   "outputs": [
    {
     "name": "stdout",
     "output_type": "stream",
     "text": [
      "kaif\n",
      "pkaif0667@gmail.com\n",
      "7013726065\n"
     ]
    }
   ],
   "source": [
    "dicto = {\n",
    "    \"name\": \"kaif\",\n",
    "    \"Email\":\"pkaif0667@gmail.com\",\n",
    "    \"mobile\": \"7013726065\",\n",
    "}\n",
    "for x in dicto.values():\n",
    "    print(x)"
   ]
  },
  {
   "cell_type": "code",
   "execution_count": 1,
   "metadata": {},
   "outputs": [
    {
     "name": "stdout",
     "output_type": "stream",
     "text": [
      "False\n"
     ]
    }
   ],
   "source": [
    "print(\"1.1\".isnumeric())"
   ]
  },
  {
   "cell_type": "code",
   "execution_count": 46,
   "metadata": {},
   "outputs": [
    {
     "name": "stdout",
     "output_type": "stream",
     "text": [
      "contact of name kaif is added\n",
      "contact of name shoaib is added\n"
     ]
    },
    {
     "ename": "KeyError",
     "evalue": "('kaif', 'shoaib')",
     "output_type": "error",
     "traceback": [
      "\u001b[1;31m---------------------------------------------------------------------------\u001b[0m",
      "\u001b[1;31mKeyError\u001b[0m                                  Traceback (most recent call last)",
      "\u001b[1;32m<ipython-input-46-e2b3a9bdbc5b>\u001b[0m in \u001b[0;36m<module>\u001b[1;34m\u001b[0m\n\u001b[0;32m      9\u001b[0m \u001b[0maddContact\u001b[0m\u001b[1;33m(\u001b[0m\u001b[1;34m\"kaif\"\u001b[0m\u001b[1;33m,\u001b[0m\u001b[1;36m65456168\u001b[0m\u001b[1;33m)\u001b[0m\u001b[1;33m\u001b[0m\u001b[1;33m\u001b[0m\u001b[0m\n\u001b[0;32m     10\u001b[0m \u001b[0maddContact\u001b[0m\u001b[1;33m(\u001b[0m\u001b[1;34m\"shoaib\"\u001b[0m\u001b[1;33m,\u001b[0m\u001b[1;36m516585154\u001b[0m\u001b[1;33m)\u001b[0m\u001b[1;33m\u001b[0m\u001b[1;33m\u001b[0m\u001b[0m\n\u001b[1;32m---> 11\u001b[1;33m \u001b[0mprint\u001b[0m\u001b[1;33m(\u001b[0m\u001b[0mcontact\u001b[0m\u001b[1;33m[\u001b[0m\u001b[1;34m\"kaif\"\u001b[0m\u001b[1;33m,\u001b[0m\u001b[1;34m\"shoaib\"\u001b[0m\u001b[1;33m]\u001b[0m\u001b[1;33m)\u001b[0m\u001b[1;33m\u001b[0m\u001b[1;33m\u001b[0m\u001b[0m\n\u001b[0m",
      "\u001b[1;31mKeyError\u001b[0m: ('kaif', 'shoaib')"
     ]
    }
   ],
   "source": [
    "contact = {}\n",
    "def addContact(name,phone):\n",
    "    if name not in contact:\n",
    "        contact[name]=phone\n",
    "        print(f\"contact of name {name} is added\")\n",
    "    else:\n",
    "        print(f\"contact with {name} already exist\")\n",
    "    return\n",
    "addContact(\"kaif\",65456168)\n",
    "addContact(\"shoaib\",516585154)\n",
    "print(contact[\"kaif\",\"shoaib\"])"
   ]
  },
  {
   "cell_type": "code",
   "execution_count": 12,
   "metadata": {},
   "outputs": [
    {
     "name": "stdout",
     "output_type": "stream",
     "text": [
      "kaif's contact:4891268412\n",
      "akram's contact:6541321845\n",
      "asd's contact result not found\n"
     ]
    }
   ],
   "source": [
    "contact = {\n",
    "    \"kaif\":4891268412,\n",
    "    \"akram\":6541321845,\n",
    "}\n",
    "def searchContact(name):\n",
    "    if name in contact:\n",
    "        print(f\"{name}'s contact:{contact[name]}\")\n",
    "    else:\n",
    "        print(f\"{name}'s contact result not found\")\n",
    "    return\n",
    "searchContact(\"kaif\")\n",
    "searchContact(\"akram\")\n",
    "searchContact(\"asd\")"
   ]
  },
  {
   "cell_type": "code",
   "execution_count": 20,
   "metadata": {},
   "outputs": [
    {
     "name": "stdout",
     "output_type": "stream",
     "text": [
      "2 contacts added sucessfully\n"
     ]
    }
   ],
   "source": [
    "def importContacts(newContacts):\n",
    "    contact.update(newContacts)\n",
    "    print(f\"{len(newContacts)} contacts added sucessfully\")\n",
    "    return\n",
    "newContacts={\n",
    "    \"shoaib\":21841215,\n",
    "    \"lillu\":2141231856,\n",
    "}\n",
    "importContacts(newContacts)"
   ]
  },
  {
   "cell_type": "code",
   "execution_count": 23,
   "metadata": {},
   "outputs": [
    {
     "name": "stdout",
     "output_type": "stream",
     "text": [
      "contact on the name of asd not present\n"
     ]
    }
   ],
   "source": [
    "def contactDel(name):\n",
    "    if name in contact:\n",
    "        del contact[name]\n",
    "        print(f\"contact of name {name} is deleted\")\n",
    "    else:\n",
    "        print(f\"contact on the name of {name} not present\")\n",
    "contactDel(\"asd\")"
   ]
  },
  {
   "cell_type": "markdown",
   "metadata": {},
   "source": [
    "## packages and modules:\n"
   ]
  },
  {
   "cell_type": "code",
   "execution_count": 28,
   "metadata": {},
   "outputs": [
    {
     "name": "stdout",
     "output_type": "stream",
     "text": [
      "3\n"
     ]
    }
   ],
   "source": [
    "from math import floor as fl\n",
    "asd = fl(3.45)\n",
    "print(asd)"
   ]
  },
  {
   "cell_type": "code",
   "execution_count": 30,
   "metadata": {},
   "outputs": [
    {
     "name": "stdout",
     "output_type": "stream",
     "text": [
      "120\n"
     ]
    }
   ],
   "source": [
    "import math\n",
    "print(math.factorial(5))"
   ]
  },
  {
   "cell_type": "code",
   "execution_count": 38,
   "metadata": {},
   "outputs": [
    {
     "name": "stdout",
     "output_type": "stream",
     "text": [
      "6\n"
     ]
    }
   ],
   "source": [
    "import random\n",
    "ch = random.randint(2,20)\n",
    "print(ch)"
   ]
  },
  {
   "cell_type": "code",
   "execution_count": 45,
   "metadata": {},
   "outputs": [
    {
     "name": "stdout",
     "output_type": "stream",
     "text": [
      "61 50 15 76 39 98 10 77 84 42 15 40 88 41 67 47 3 21 51 72 "
     ]
    }
   ],
   "source": [
    "from random import randint as ri\n",
    "for i in range(20):\n",
    "    print(ri(1,100),end=\" \")\n",
    "    "
   ]
  },
  {
   "cell_type": "code",
   "execution_count": 49,
   "metadata": {},
   "outputs": [],
   "source": [
    "dicto = {0:\"kaif\"}"
   ]
  }
 ],
 "metadata": {
  "kernelspec": {
   "display_name": "Python 3",
   "language": "python",
   "name": "python3"
  },
  "language_info": {
   "codemirror_mode": {
    "name": "ipython",
    "version": 3
   },
   "file_extension": ".py",
   "mimetype": "text/x-python",
   "name": "python",
   "nbconvert_exporter": "python",
   "pygments_lexer": "ipython3",
   "version": "3.7.3"
  }
 },
 "nbformat": 4,
 "nbformat_minor": 2
}
