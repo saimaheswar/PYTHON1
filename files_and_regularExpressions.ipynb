{
 "cells": [
  {
   "cell_type": "markdown",
   "metadata": {},
   "source": [
    "## files using python"
   ]
  },
  {
   "cell_type": "code",
   "execution_count": 35,
   "metadata": {},
   "outputs": [
    {
     "name": "stdout",
     "output_type": "stream",
     "text": [
      "writing in file complete\n"
     ]
    }
   ],
   "source": [
    "def writeFile(name):\n",
    "    f = open(name,\"w\")\n",
    "    for i in range(1,10):\n",
    "        f.write(f\"This is {i} line \\n\")\n",
    "    print(\"writing in file complete\")\n",
    "    f.close()\n",
    "    return\n",
    "writeFile(\"KAIF.txt\")"
   ]
  },
  {
   "cell_type": "code",
   "execution_count": 36,
   "metadata": {},
   "outputs": [
    {
     "name": "stdout",
     "output_type": "stream",
     "text": [
      "This is 1 line \n",
      "This is 2 line \n",
      "This is 3 line \n",
      "This is 4 line \n",
      "This is 5 line \n",
      "This is 6 line \n",
      "This is 7 line \n",
      "This is 8 line \n",
      "This is 9 line \n",
      "\n"
     ]
    }
   ],
   "source": [
    "def readFile(name):\n",
    "    f= open(name,\"r\")\n",
    "    x = f.read()\n",
    "    print(x)\n",
    "    return\n",
    "readFile(\"KAIF.txt\")"
   ]
  },
  {
   "cell_type": "code",
   "execution_count": 37,
   "metadata": {},
   "outputs": [
    {
     "name": "stdout",
     "output_type": "stream",
     "text": [
      "This is 1 line \n",
      "This is 2 line \n",
      "This is 3 line \n",
      "This is 4 line \n",
      "This is 5 line \n",
      "This is 6 line \n",
      "This is 7 line \n",
      "This is 8 line \n",
      "This is 9 line \n",
      "\n",
      "1\n"
     ]
    }
   ],
   "source": [
    "def wordCount(name, word):\n",
    "    f = open(name,\"r\")\n",
    "    if f.mode == \"r\":\n",
    "        x = f.read()\n",
    "        print(x)\n",
    "    count = 0\n",
    "    lst = x.split(\" \")\n",
    "    for i in lst:\n",
    "        if i == word:\n",
    "            count += 1\n",
    "    return count\n",
    "print(wordCount(\"KAIF.txt\",\"1\"))"
   ]
  },
  {
   "cell_type": "code",
   "execution_count": 38,
   "metadata": {},
   "outputs": [
    {
     "name": "stdout",
     "output_type": "stream",
     "text": [
      "144\n"
     ]
    }
   ],
   "source": [
    "def countChar(name):\n",
    "    f = open(name,\"r\")\n",
    "    if f.mode == \"r\":\n",
    "        x = f.read()\n",
    "    lst = list(x)\n",
    "    print(len(lst))\n",
    "countChar('KAIF.txt')"
   ]
  },
  {
   "cell_type": "markdown",
   "metadata": {},
   "source": [
    "## regular expression\n",
    "* [0-9] -- any digit\n",
    "* [a-z] -- any lower case charecter\n",
    "* [A-Z] -- any upper case charecter\n",
    "* [2468] -- single digit which is multiple of 2\n",
    "    * cap(^) -- to start regular expression\n",
    "    * dollor -- to end the regular expression\n",
    "* ^[0-9]{3}$ -- accepts upto only one digit"
   ]
  },
  {
   "cell_type": "markdown",
   "metadata": {},
   "source": [
    "### valid indian number\n",
    "* +917013584025 "
   ]
  },
  {
   "cell_type": "code",
   "execution_count": 4,
   "metadata": {},
   "outputs": [
    {
     "data": {
      "text/plain": [
       "False"
      ]
     },
     "execution_count": 4,
     "metadata": {},
     "output_type": "execute_result"
    }
   ],
   "source": [
    "import re\n",
    "def phoneNumberValidation(num):\n",
    "    pattern = \"^[+][9][1][6-9][0-9]{9}$[0][6-9][0-9]{9}$\"\n",
    "    if re.match(pattern,num):\n",
    "        return True\n",
    "    return False\n",
    "phoneNumberValidation(\"07013726065\")"
   ]
  },
  {
   "cell_type": "code",
   "execution_count": 6,
   "metadata": {},
   "outputs": [
    {
     "name": "stdout",
     "output_type": "stream",
     "text": [
      "valid\n"
     ]
    }
   ],
   "source": [
    "def rollValidity(roll):\n",
    "    pattern = \"^[2][2][1][8][1][0][3][0][5][0][0-6][1-9]$\"\n",
    "    if re.match(pattern,roll):\n",
    "        return 'valid'\n",
    "    return \"not valid\"\n",
    "print(rollValidity(\"221810305043\"))"
   ]
  },
  {
   "cell_type": "code",
   "execution_count": 9,
   "metadata": {},
   "outputs": [
    {
     "name": "stdout",
     "output_type": "stream",
     "text": [
      "valid Email id\n"
     ]
    }
   ],
   "source": [
    "def emailValidation(email):\n",
    "    pattern= \"^[a-z0-9][a-z0-9._]{3,14}[a-z0-9][@][a-z]{3,8}[.][a-z]{2,4}$\"\n",
    "    if re.match(pattern,email):\n",
    "        return \"valid Email id\"\n",
    "    return \"invalid Email id\"\n",
    "print(emailValidation(\"pkaif0667@gmail.com\"))"
   ]
  },
  {
   "cell_type": "code",
   "execution_count": 10,
   "metadata": {},
   "outputs": [
    {
     "name": "stdout",
     "output_type": "stream",
     "text": [
      "valid password\n"
     ]
    }
   ],
   "source": [
    "def passValidation(password):\n",
    "    pattern = \"[0-9a-zA-Z@$#!]{6,15}\"\n",
    "    if re.match(pattern,password):\n",
    "        return \"valid password\"\n",
    "    return \"invalid password\"\n",
    "print(passValidation(\"kaifs54154@!\"))"
   ]
  },
  {
   "cell_type": "code",
   "execution_count": null,
   "metadata": {},
   "outputs": [],
   "source": []
  }
 ],
 "metadata": {
  "kernelspec": {
   "display_name": "Python 3",
   "language": "python",
   "name": "python3"
  },
  "language_info": {
   "codemirror_mode": {
    "name": "ipython",
    "version": 3
   },
   "file_extension": ".py",
   "mimetype": "text/x-python",
   "name": "python",
   "nbconvert_exporter": "python",
   "pygments_lexer": "ipython3",
   "version": "3.7.3"
  }
 },
 "nbformat": 4,
 "nbformat_minor": 2
}
