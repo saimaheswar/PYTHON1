{
 "cells": [
  {
   "cell_type": "markdown",
   "metadata": {},
   "source": [
    "# Data structure\n",
    "## searching data\n",
    "                ### linear search\n",
    "                ### binsry search\n",
    "## sorting\n",
    "## storing data"
   ]
  },
  {
   "cell_type": "code",
   "execution_count": 3,
   "metadata": {},
   "outputs": [
    {
     "name": "stdout",
     "output_type": "stream",
     "text": [
      "not found\n"
     ]
    }
   ],
   "source": [
    "def linear_search(a,ele):\n",
    "    flag =0\n",
    "    for i in range(len(a)):\n",
    "        if a[i] == ele:\n",
    "            flag = 1\n",
    "            break;\n",
    "    if flag == 1:\n",
    "        print(\"found..\")\n",
    "    else:\n",
    "        print(\"not found\")\n",
    "a = [1,51,63,81]\n",
    "linear_search(a,60)"
   ]
  },
  {
   "cell_type": "code",
   "execution_count": 4,
   "metadata": {},
   "outputs": [
    {
     "name": "stdout",
     "output_type": "stream",
     "text": [
      "1 4 7 "
     ]
    }
   ],
   "source": [
    "def linear_search(a,ele):\n",
    "    flag =0\n",
    "    for i in range(len(a)):\n",
    "        if a[i] == ele:\n",
    "            print(i,end=\" \")\n",
    "            \n",
    "    \n",
    "a = [1,5,9,6,5,15,12,5]\n",
    "linear_search(a,5)"
   ]
  },
  {
   "cell_type": "code",
   "execution_count": 5,
   "metadata": {},
   "outputs": [
    {
     "name": "stdout",
     "output_type": "stream",
     "text": [
      " !!   !!!!!   !!!!!!!! "
     ]
    }
   ],
   "source": [
    "def linear_search(a,ele):\n",
    "    for i in range(len(a)):\n",
    "        if a[i] == ele:\n",
    "            k = i\n",
    "            while k>=0:\n",
    "                print(\"!\",end = \"\")\n",
    "                k=k-1\n",
    "        print(\" \",end=\"\")\n",
    "a = [1,5,9,6,5,15,12,5]\n",
    "linear_search(a,5)"
   ]
  },
  {
   "cell_type": "code",
   "execution_count": 9,
   "metadata": {},
   "outputs": [
    {
     "name": "stdout",
     "output_type": "stream",
     "text": [
      "[15, 30, 45]\n"
     ]
    }
   ],
   "source": [
    "def mul3_5(a,ele):\n",
    "    for i in range(1,ele):\n",
    "        if i%3==0 and i%5==0:\n",
    "            a.append(i)\n",
    "        i=i+1\n",
    "    print(a)\n",
    "a=[]\n",
    "mul3_5(a,60)"
   ]
  },
  {
   "cell_type": "code",
   "execution_count": 13,
   "metadata": {},
   "outputs": [
    {
     "name": "stdout",
     "output_type": "stream",
     "text": [
      "60\n"
     ]
    }
   ],
   "source": [
    "def linear_search(a):\n",
    "    sum = 0\n",
    "    for i in range(len(a)):\n",
    "        if a[i]%3 == 0 and a[i]%5 == 0:\n",
    "            sum = sum + a[i]\n",
    "            \n",
    "    print(sum)     \n",
    "a = [15,12,2,9,18,36,45]\n",
    "linear_search(a)"
   ]
  },
  {
   "cell_type": "code",
   "execution_count": 1,
   "metadata": {},
   "outputs": [
    {
     "name": "stdout",
     "output_type": "stream",
     "text": [
      "[1, 3, 8, 15, 5]\n"
     ]
    }
   ],
   "source": [
    "def linear_search(a):\n",
    "    b=[]\n",
    "    for i in range(len(a)):\n",
    "        if i==0 or i==len(a)-1:\n",
    "            b.append(a[i])\n",
    "        else:\n",
    "            b.append(a[i-1]*a[i+1])\n",
    "    print(b)\n",
    "a=[1,2,3,4,5]\n",
    "linear_search(a)"
   ]
  },
  {
   "cell_type": "code",
   "execution_count": 6,
   "metadata": {},
   "outputs": [
    {
     "name": "stdout",
     "output_type": "stream",
     "text": [
      "1 9 19 22 "
     ]
    }
   ],
   "source": [
    "def linear_search(a):\n",
    "    for i in range(len(a)):\n",
    "        if i==0 or i==len(a)-1:\n",
    "            print(a[i],end=\" \")\n",
    "        elif (a[i-1]%2 == 0 and a[i+1]%2==0):\n",
    "            print(a[i],end=\" \")\n",
    "a=[1,6,9,4,16,19,22]\n",
    "linear_search(a)"
   ]
  },
  {
   "cell_type": "code",
   "execution_count": 166,
   "metadata": {},
   "outputs": [
    {
     "name": "stdout",
     "output_type": "stream",
     "text": [
      "[1, 4, 5, 6, 7, 6, 5, 6, 5, 1, 8, 5]\n"
     ]
    }
   ],
   "source": [
    "def list(num):\n",
    "    a=[]\n",
    "    while num!=0:\n",
    "        a.append(num%10)\n",
    "        num=num//10\n",
    "    a.reverse()\n",
    "    print(a)\n",
    "list(145676565185)"
   ]
  },
  {
   "cell_type": "code",
   "execution_count": 170,
   "metadata": {},
   "outputs": [
    {
     "name": "stdout",
     "output_type": "stream",
     "text": [
      "[4, 6]\n"
     ]
    }
   ],
   "source": [
    "def list(num):\n",
    "    a=[]\n",
    "    while num!=0:\n",
    "        if (num%10)%2==0:\n",
    "            a.append(num%10)\n",
    "        num=num//10\n",
    "    a.reverse()\n",
    "    print(a)\n",
    "list(14569)"
   ]
  },
  {
   "cell_type": "code",
   "execution_count": 2,
   "metadata": {},
   "outputs": [
    {
     "name": "stdout",
     "output_type": "stream",
     "text": [
      "1457\n"
     ]
    }
   ],
   "source": [
    "def number(a):\n",
    "    sum = 0\n",
    "    for i in range(len(a)):\n",
    "        sum = sum*10 + a[i]\n",
    "    print(sum)\n",
    "a=[1,4,5,7]\n",
    "number(a)"
   ]
  },
  {
   "cell_type": "code",
   "execution_count": 5,
   "metadata": {},
   "outputs": [
    {
     "name": "stdout",
     "output_type": "stream",
     "text": [
      "46\n"
     ]
    }
   ],
   "source": [
    "def number(a):\n",
    "    sum = 0\n",
    "    for i in range(len(a)):\n",
    "        if a[i]%2==0:\n",
    "            sum = sum*10 + a[i]\n",
    "    print(sum)\n",
    "a=[1,4,5,7,6]\n",
    "number(a)"
   ]
  },
  {
   "cell_type": "code",
   "execution_count": 9,
   "metadata": {},
   "outputs": [
    {
     "name": "stdout",
     "output_type": "stream",
     "text": [
      "[1, 4, 3, 16, 5]\n"
     ]
    }
   ],
   "source": [
    "def clear(a):\n",
    "    for i in range(len(a)):\n",
    "        if a[i]%2==0:\n",
    "            a[i]=a[i]**2\n",
    "        else:\n",
    "            pass\n",
    "    print(a)\n",
    "a = [1,2,3,4,5]\n",
    "clear(a)"
   ]
  },
  {
   "cell_type": "code",
   "execution_count": 11,
   "metadata": {},
   "outputs": [
    {
     "name": "stdout",
     "output_type": "stream",
     "text": [
      "[15, 34, 31, 28, 4]\n"
     ]
    }
   ],
   "source": [
    "def clear(a):\n",
    "    b = []\n",
    "    for i in range(len(a)):\n",
    "        if i==0 or i==len(a)-1:\n",
    "            b.append(a[i])\n",
    "        else:\n",
    "            b.append(a[i]+a[i-1])\n",
    "    print(b);\n",
    "a=[15,19,12,16,4]\n",
    "clear(a)"
   ]
  }
 ],
 "metadata": {
  "kernelspec": {
   "display_name": "Python 3",
   "language": "python",
   "name": "python3"
  },
  "language_info": {
   "codemirror_mode": {
    "name": "ipython",
    "version": 3
   },
   "file_extension": ".py",
   "mimetype": "text/x-python",
   "name": "python",
   "nbconvert_exporter": "python",
   "pygments_lexer": "ipython3",
   "version": "3.7.3"
  }
 },
 "nbformat": 4,
 "nbformat_minor": 2
}
