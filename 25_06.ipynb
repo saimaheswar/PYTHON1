{
  "nbformat": 4,
  "nbformat_minor": 0,
  "metadata": {
    "colab": {
      "name": "25-06.ipynb",
      "version": "0.3.2",
      "provenance": [],
      "include_colab_link": true
    },
    "language_info": {
      "codemirror_mode": {
        "name": "ipython",
        "version": 3
      },
      "file_extension": ".py",
      "mimetype": "text/x-python",
      "name": "python",
      "nbconvert_exporter": "python",
      "pygments_lexer": "ipython3",
      "version": "3.7.3"
    },
    "kernelspec": {
      "display_name": "Python 3",
      "language": "python",
      "name": "python3"
    }
  },
  "cells": [
    {
      "cell_type": "markdown",
      "metadata": {
        "id": "view-in-github",
        "colab_type": "text"
      },
      "source": [
        "<a href=\"https://colab.research.google.com/github/saimaheswar/PYTHON1/blob/master/25_06.ipynb\" target=\"_parent\"><img src=\"https://colab.research.google.com/assets/colab-badge.svg\" alt=\"Open In Colab\"/></a>"
      ]
    },
    {
      "cell_type": "markdown",
      "metadata": {
        "id": "FH_tiTj3Aqrn",
        "colab_type": "text"
      },
      "source": [
        "## Binary search"
      ]
    },
    {
      "cell_type": "code",
      "metadata": {
        "id": "1ZFIo2vIAqro",
        "colab_type": "code",
        "outputId": "151ba2dc-5ced-4172-a6d8-c6dd8add69a9",
        "colab": {}
      },
      "source": [
        "def binarysearch(a,lIndex,rIndex,tarItem):\n",
        "    while(lIndex<=rIndex):\n",
        "        mIndex=lIndex+(rIndex-lIndex)//2\n",
        "        if a[mIndex]==tarItem:\n",
        "            return mIndex\n",
        "        if a[mIndex]>tarItem:\n",
        "            rIndex=mIndex-1\n",
        "        else:\n",
        "            lIndex=mIndex+1\n",
        "    return -1\n",
        "\n",
        "list1=[1,4,9,15,25,45,57,88,98]\n",
        "res=binarysearch(list1,0,8,98)\n",
        "if res!=-1:\n",
        "    print(\"Item is found\")\n",
        "else:\n",
        "    print(\"Item is not found\")"
      ],
      "execution_count": 0,
      "outputs": [
        {
          "output_type": "stream",
          "text": [
            "Item is found\n"
          ],
          "name": "stdout"
        }
      ]
    },
    {
      "cell_type": "markdown",
      "metadata": {
        "id": "rl8JQE2nAqru",
        "colab_type": "text"
      },
      "source": [
        "## Bubble sort"
      ]
    },
    {
      "cell_type": "code",
      "metadata": {
        "id": "wyOWpGimAqrv",
        "colab_type": "code",
        "outputId": "6bca0aa0-aaca-406c-fc96-2076a784fd0a",
        "colab": {}
      },
      "source": [
        "def bubblesort(a):\n",
        "    for i in range(len(a)-1):\n",
        "        for j in range(len(a)-1):\n",
        "            if a[j]>a[j+1]:\n",
        "                a[j],a[j+1]=a[j+1],a[j]\n",
        "    for i in range(len(a)):\n",
        "        print(a[i],end=\" \")\n",
        "list1=[19,1,25,6,18,3]\n",
        "bubblesort(list1)"
      ],
      "execution_count": 0,
      "outputs": [
        {
          "output_type": "stream",
          "text": [
            "1 3 6 18 19 25 "
          ],
          "name": "stdout"
        }
      ]
    },
    {
      "cell_type": "markdown",
      "metadata": {
        "id": "jmzvLoeSAqrz",
        "colab_type": "text"
      },
      "source": [
        "## ASCII Numbers"
      ]
    },
    {
      "cell_type": "code",
      "metadata": {
        "id": "lrGb00YkAqr0",
        "colab_type": "code",
        "outputId": "2843b572-8025-45b9-bdc1-7628a1f03122",
        "colab": {}
      },
      "source": [
        "str=(\"Application\")\n",
        "print(str)\n",
        "\n",
        "str1='Application'\n",
        "print(str1)\n",
        "\n",
        "str2=\"\"\"Application Test\n",
        "        working\n",
        "        Completed\n",
        "        List\n",
        "        strings\n",
        "        Python \"\"\"\n",
        "print(str2)"
      ],
      "execution_count": 0,
      "outputs": [
        {
          "output_type": "stream",
          "text": [
            "Application\n",
            "Application\n",
            "Application Test\n",
            "        working\n",
            "        Completed\n",
            "        List\n",
            "        strings\n",
            "        Python \n"
          ],
          "name": "stdout"
        }
      ]
    },
    {
      "cell_type": "markdown",
      "metadata": {
        "id": "ssKjg1plAqr5",
        "colab_type": "text"
      },
      "source": [
        "## Example"
      ]
    },
    {
      "cell_type": "code",
      "metadata": {
        "id": "T_VBf27fAqr6",
        "colab_type": "code",
        "outputId": "792ef831-afd2-4b80-c8ee-f89e65312844",
        "colab": {}
      },
      "source": [
        "def countofchars(str):\n",
        "    return len(str)\n",
        "countofchars(\"Application\")"
      ],
      "execution_count": 0,
      "outputs": [
        {
          "output_type": "execute_result",
          "data": {
            "text/plain": [
              "11"
            ]
          },
          "metadata": {
            "tags": []
          },
          "execution_count": 9
        }
      ]
    },
    {
      "cell_type": "code",
      "metadata": {
        "id": "sx7_VoPyAqr-",
        "colab_type": "code",
        "outputId": "71aed525-b707-45c6-ec83-245631c1d025",
        "colab": {}
      },
      "source": [
        "def countdigits(n):\n",
        "    return len(n)\n",
        "countdigits(\"25418\")"
      ],
      "execution_count": 0,
      "outputs": [
        {
          "output_type": "execute_result",
          "data": {
            "text/plain": [
              "5"
            ]
          },
          "metadata": {
            "tags": []
          },
          "execution_count": 10
        }
      ]
    },
    {
      "cell_type": "markdown",
      "metadata": {
        "id": "D3iuE72fAqsB",
        "colab_type": "text"
      },
      "source": [
        "## String examples "
      ]
    },
    {
      "cell_type": "code",
      "metadata": {
        "id": "7TTeT4_4AqsC",
        "colab_type": "code",
        "outputId": "ec2b706c-3181-49a3-dd1d-35304954d6af",
        "colab": {}
      },
      "source": [
        "def countuppercase(string):\n",
        "    count=0\n",
        "    lst=list[string]\n",
        "    print(lst)\n",
        "    for x in range(len(lst)):\n",
        "        if ord(lst[x]) >= 65 and ord(lst[x]) <= 90:\n",
        "            \n",
        "            count=count+1\n",
        "    return count\n",
        "    \n",
        "\n",
        "print(countuppercase('Application'))\n",
        "#print(countuppercase(\"tesT\"))"
      ],
      "execution_count": 0,
      "outputs": [
        {
          "output_type": "error",
          "ename": "TypeError",
          "evalue": "'type' object is not subscriptable",
          "traceback": [
            "\u001b[1;31m---------------------------------------------------------------------------\u001b[0m",
            "\u001b[1;31mTypeError\u001b[0m                                 Traceback (most recent call last)",
            "\u001b[1;32m<ipython-input-1-edbf64edce15>\u001b[0m in \u001b[0;36m<module>\u001b[1;34m\u001b[0m\n\u001b[0;32m     10\u001b[0m \u001b[1;33m\u001b[0m\u001b[0m\n\u001b[0;32m     11\u001b[0m \u001b[1;33m\u001b[0m\u001b[0m\n\u001b[1;32m---> 12\u001b[1;33m \u001b[0mprint\u001b[0m\u001b[1;33m(\u001b[0m\u001b[0mcountuppercase\u001b[0m\u001b[1;33m(\u001b[0m\u001b[1;34m'Application'\u001b[0m\u001b[1;33m)\u001b[0m\u001b[1;33m)\u001b[0m\u001b[1;33m\u001b[0m\u001b[1;33m\u001b[0m\u001b[0m\n\u001b[0m\u001b[0;32m     13\u001b[0m \u001b[1;31m#print(countuppercase(\"tesT\"))\u001b[0m\u001b[1;33m\u001b[0m\u001b[1;33m\u001b[0m\u001b[1;33m\u001b[0m\u001b[0m\n",
            "\u001b[1;32m<ipython-input-1-edbf64edce15>\u001b[0m in \u001b[0;36mcountuppercase\u001b[1;34m(string)\u001b[0m\n\u001b[0;32m      1\u001b[0m \u001b[1;32mdef\u001b[0m \u001b[0mcountuppercase\u001b[0m\u001b[1;33m(\u001b[0m\u001b[0mstring\u001b[0m\u001b[1;33m)\u001b[0m\u001b[1;33m:\u001b[0m\u001b[1;33m\u001b[0m\u001b[1;33m\u001b[0m\u001b[0m\n\u001b[0;32m      2\u001b[0m     \u001b[0mcount\u001b[0m\u001b[1;33m=\u001b[0m\u001b[1;36m0\u001b[0m\u001b[1;33m\u001b[0m\u001b[1;33m\u001b[0m\u001b[0m\n\u001b[1;32m----> 3\u001b[1;33m     \u001b[0mlst\u001b[0m\u001b[1;33m=\u001b[0m\u001b[0mlist\u001b[0m\u001b[1;33m[\u001b[0m\u001b[0mstring\u001b[0m\u001b[1;33m]\u001b[0m\u001b[1;33m\u001b[0m\u001b[1;33m\u001b[0m\u001b[0m\n\u001b[0m\u001b[0;32m      4\u001b[0m     \u001b[0mprint\u001b[0m\u001b[1;33m(\u001b[0m\u001b[0mlst\u001b[0m\u001b[1;33m)\u001b[0m\u001b[1;33m\u001b[0m\u001b[1;33m\u001b[0m\u001b[0m\n\u001b[0;32m      5\u001b[0m     \u001b[1;32mfor\u001b[0m \u001b[0mx\u001b[0m \u001b[1;32min\u001b[0m \u001b[0mrange\u001b[0m\u001b[1;33m(\u001b[0m\u001b[0mlen\u001b[0m\u001b[1;33m(\u001b[0m\u001b[0mlst\u001b[0m\u001b[1;33m)\u001b[0m\u001b[1;33m)\u001b[0m\u001b[1;33m:\u001b[0m\u001b[1;33m\u001b[0m\u001b[1;33m\u001b[0m\u001b[0m\n",
            "\u001b[1;31mTypeError\u001b[0m: 'type' object is not subscriptable"
          ]
        }
      ]
    },
    {
      "cell_type": "code",
      "metadata": {
        "id": "aFgwRfSwAqsF",
        "colab_type": "code",
        "outputId": "dead33a7-1c74-498a-cbe7-f58c51bbc954",
        "colab": {}
      },
      "source": [
        "def uppercasecount(s):\n",
        "    count = 0\n",
        "    lst = list(s)\n",
        "    for x in range (len(lst)):\n",
        "        if ord(lst[x])>=65 and ord(lst[x])<=90:\n",
        "            count += 1\n",
        "    return count\n",
        "uppercasecount('Saxena')\n",
        "uppercasecount('TEST')"
      ],
      "execution_count": 0,
      "outputs": [
        {
          "output_type": "execute_result",
          "data": {
            "text/plain": [
              "4"
            ]
          },
          "metadata": {
            "tags": []
          },
          "execution_count": 10
        }
      ]
    },
    {
      "cell_type": "code",
      "metadata": {
        "id": "xvPt9QjPAqsL",
        "colab_type": "code",
        "outputId": "e87ee261-ed74-46f8-ce9d-117378a60892",
        "colab": {}
      },
      "source": [
        "def printdigits(str):\n",
        "    lst=list(str)\n",
        "    for x in range(len(lst)):\n",
        "        if ord(lst[x])>=48 and ord(lst[x])<=57:\n",
        "            print(lst[x],end=\"\")\n",
        "    return \n",
        "            \n",
        "printdigits('Application1889')"
      ],
      "execution_count": 0,
      "outputs": [
        {
          "output_type": "stream",
          "text": [
            "1889"
          ],
          "name": "stdout"
        }
      ]
    },
    {
      "cell_type": "markdown",
      "metadata": {
        "id": "l7GsTABTAqsP",
        "colab_type": "text"
      },
      "source": [
        "## Sum of digits "
      ]
    },
    {
      "cell_type": "code",
      "metadata": {
        "id": "FZNZ2__WAqsQ",
        "colab_type": "code",
        "outputId": "04b6c95b-f748-4b78-89be-c9689f928e04",
        "colab": {}
      },
      "source": [
        "def sumofdigits(str):\n",
        "    sum=0\n",
        "    lst=list(str)\n",
        "    for x in range(len(lst)):\n",
        "        if ord(lst[x])>=48 and ord(lst[x])<=57:\n",
        "            sum= sum +ord(lst[x]) -48\n",
        "    return sum\n",
        "print(sumofdigits('Application1889'))"
      ],
      "execution_count": 0,
      "outputs": [
        {
          "output_type": "stream",
          "text": [
            "26\n"
          ],
          "name": "stdout"
        }
      ]
    },
    {
      "cell_type": "markdown",
      "metadata": {
        "id": "CtITiQn7AqsT",
        "colab_type": "text"
      },
      "source": [
        "## Strings--Add only even digits to sum"
      ]
    },
    {
      "cell_type": "code",
      "metadata": {
        "id": "Ex6Y-m3hAqsU",
        "colab_type": "code",
        "outputId": "a188cc3d-92b5-4555-ea4a-8f6a5b8bad40",
        "colab": {}
      },
      "source": [
        "def sumofevendigits(str):\n",
        "    sum=0\n",
        "    lst=list(str)\n",
        "    for x in range(len(lst)):\n",
        "        if ord(lst[x])>=48 and ord(lst[x])<=57:\n",
        "            if ord(lst[x])%2==0:\n",
        "                sum=sum+ ord(lst[x])-48\n",
        "    return sum\n",
        "\n",
        "print(sumofevendigits('Wor7852king'))"
      ],
      "execution_count": 0,
      "outputs": [
        {
          "output_type": "stream",
          "text": [
            "10\n"
          ],
          "name": "stdout"
        }
      ]
    },
    {
      "cell_type": "markdown",
      "metadata": {
        "id": "OwiUjzTgAqsY",
        "colab_type": "text"
      },
      "source": [
        "## String character conversion"
      ]
    },
    {
      "cell_type": "code",
      "metadata": {
        "id": "KxUsG8JPAqsb",
        "colab_type": "code",
        "colab": {}
      },
      "source": [
        ""
      ],
      "execution_count": 0,
      "outputs": []
    }
  ]
}