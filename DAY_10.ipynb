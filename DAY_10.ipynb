{
  "nbformat": 4,
  "nbformat_minor": 0,
  "metadata": {
    "colab": {
      "name": "DAY 10.ipynb",
      "version": "0.3.2",
      "provenance": [],
      "include_colab_link": true
    },
    "language_info": {
      "codemirror_mode": {
        "name": "ipython",
        "version": 3
      },
      "file_extension": ".py",
      "mimetype": "text/x-python",
      "name": "python",
      "nbconvert_exporter": "python",
      "pygments_lexer": "ipython3",
      "version": "3.7.3"
    },
    "kernelspec": {
      "display_name": "Python 3",
      "language": "python",
      "name": "python3"
    }
  },
  "cells": [
    {
      "cell_type": "markdown",
      "metadata": {
        "id": "view-in-github",
        "colab_type": "text"
      },
      "source": [
        "<a href=\"https://colab.research.google.com/github/saimaheswar/PYTHON1/blob/master/DAY_10.ipynb\" target=\"_parent\"><img src=\"https://colab.research.google.com/assets/colab-badge.svg\" alt=\"Open In Colab\"/></a>"
      ]
    },
    {
      "cell_type": "code",
      "metadata": {
        "id": "c3j16Q-JSKzq",
        "colab_type": "code",
        "colab": {
          "base_uri": "https://localhost:8080/",
          "height": 34
        },
        "outputId": "6a28ac99-840d-4fc1-91d8-439d36ca0f05"
      },
      "source": [
        "def test():\n",
        "    print(\"Test() for funcyion\")\n",
        "    return\n",
        "test()"
      ],
      "execution_count": 2,
      "outputs": [
        {
          "output_type": "stream",
          "text": [
            "Test() for funcyion\n"
          ],
          "name": "stdout"
        }
      ]
    },
    {
      "cell_type": "code",
      "metadata": {
        "scrolled": true,
        "id": "-epH92XhSKzy",
        "colab_type": "code",
        "colab": {
          "base_uri": "https://localhost:8080/",
          "height": 34
        },
        "outputId": "7a50eca2-5738-408c-a479-1b0d4160b091"
      },
      "source": [
        "class Demo:\n",
        "    def test(self):\n",
        "        print(\"test() for the class and method\")\n",
        "        return\n",
        "obj=Demo()\n",
        "obj.test()"
      ],
      "execution_count": 3,
      "outputs": [
        {
          "output_type": "stream",
          "text": [
            "test() for the class and method\n"
          ],
          "name": "stdout"
        }
      ]
    },
    {
      "cell_type": "code",
      "metadata": {
        "scrolled": false,
        "id": "dN_oErZwSKz3",
        "colab_type": "code",
        "colab": {
          "base_uri": "https://localhost:8080/",
          "height": 34
        },
        "outputId": "c58e4cc4-8ac5-400a-8afa-6bf7fd739525"
      },
      "source": [
        "class Demo2:\n",
        "    def __init__(self,p1,p2):\n",
        "        self.p1=p1\n",
        "        self.p2=p2\n",
        "    def add(self,p1,p2):\n",
        "        return p1+p2\n",
        "c1=Demo2(10,20)\n",
        "print(c1.add(100,200))\n",
        "    \n",
        "        "
      ],
      "execution_count": 4,
      "outputs": [
        {
          "output_type": "stream",
          "text": [
            "300\n"
          ],
          "name": "stdout"
        }
      ]
    },
    {
      "cell_type": "code",
      "metadata": {
        "id": "aEDT_nCTSQRJ",
        "colab_type": "code",
        "colab": {}
      },
      "source": [
        ""
      ],
      "execution_count": 0,
      "outputs": []
    },
    {
      "cell_type": "code",
      "metadata": {
        "id": "gO12_Zd9SKz8",
        "colab_type": "code",
        "colab": {
          "base_uri": "https://localhost:8080/",
          "height": 51
        },
        "outputId": "973d101f-bf37-414d-9b56-9a1d2d10e4b7"
      },
      "source": [
        "class person(object):\n",
        "    def __init__(self,name):\n",
        "        self.name = name\n",
        "    def getname(self):\n",
        "        return self.name\n",
        "    def isemployee(self):\n",
        "        return False\n",
        "    \n",
        "#derived class\n",
        "class employee(person):\n",
        "    def isemployee(self):\n",
        "        return True\n",
        "emp = person(\"Anil\")\n",
        "print(emp.getname(),emp.isemployee())\n",
        "\n",
        "emp1=employee(\"bharath\")\n",
        "print(emp1.getname(),emp1.isemployee())\n",
        "        "
      ],
      "execution_count": 5,
      "outputs": [
        {
          "output_type": "stream",
          "text": [
            "Anil False\n",
            "bharath True\n"
          ],
          "name": "stdout"
        }
      ]
    },
    {
      "cell_type": "code",
      "metadata": {
        "id": "pQObfWcsSK0A",
        "colab_type": "code",
        "colab": {
          "base_uri": "https://localhost:8080/",
          "height": 34
        },
        "outputId": "01aaa29a-0707-45f4-c225-84cfee89c29b"
      },
      "source": [
        "import numpy as np\n",
        "lst=[1,2,3,4,5]\n",
        "array = np.array(lst)\n",
        "print(array)"
      ],
      "execution_count": 6,
      "outputs": [
        {
          "output_type": "stream",
          "text": [
            "[1 2 3 4 5]\n"
          ],
          "name": "stdout"
        }
      ]
    },
    {
      "cell_type": "code",
      "metadata": {
        "id": "aDdGI-YySK0F",
        "colab_type": "code",
        "colab": {
          "base_uri": "https://localhost:8080/",
          "height": 51
        },
        "outputId": "2218ad8d-0658-4389-fe7d-94460f465b92"
      },
      "source": [
        "import numpy as np\n",
        "lst=[1,2,3,4,5]\n",
        "array = np.array(lst)\n",
        "print(array.shape)\n",
        "print(array.dtype)"
      ],
      "execution_count": 7,
      "outputs": [
        {
          "output_type": "stream",
          "text": [
            "(5,)\n",
            "int64\n"
          ],
          "name": "stdout"
        }
      ]
    },
    {
      "cell_type": "code",
      "metadata": {
        "id": "EOz-nnLhSK0J",
        "colab_type": "code",
        "colab": {
          "base_uri": "https://localhost:8080/",
          "height": 102
        },
        "outputId": "cf13699a-d987-41a8-9e8d-d190e65de168"
      },
      "source": [
        "a1=np.array([(1,2,3),(4,5,6)])\n",
        "print(a1)\n",
        "a1.reshape(3,2)\n"
      ],
      "execution_count": 9,
      "outputs": [
        {
          "output_type": "stream",
          "text": [
            "[[1 2 3]\n",
            " [4 5 6]]\n"
          ],
          "name": "stdout"
        },
        {
          "output_type": "execute_result",
          "data": {
            "text/plain": [
              "array([[1, 2],\n",
              "       [3, 4],\n",
              "       [5, 6]])"
            ]
          },
          "metadata": {
            "tags": []
          },
          "execution_count": 9
        }
      ]
    },
    {
      "cell_type": "code",
      "metadata": {
        "id": "Azj0-cqiSK0P",
        "colab_type": "code",
        "colab": {},
        "outputId": "eb3708aa-1b6e-49a3-cde2-0513150c5128"
      },
      "source": [
        "a1 = np.array([1,2,3])\n",
        "a2 = np.array([4,5,6])\n",
        "print(np.hstack((a1,a2)))"
      ],
      "execution_count": 0,
      "outputs": [
        {
          "output_type": "stream",
          "text": [
            "[1 2 3 4 5 6]\n"
          ],
          "name": "stdout"
        }
      ]
    },
    {
      "cell_type": "code",
      "metadata": {
        "id": "8P1vKewsSK0U",
        "colab_type": "code",
        "colab": {
          "base_uri": "https://localhost:8080/",
          "height": 51
        },
        "outputId": "9edd78d2-bbbb-4466-dc09-9800fa7f8416"
      },
      "source": [
        "a1=np.array([1,2,3])\n",
        "a2=np.array([4,5,6])\n",
        "print(np.vstack((a1,a2)))"
      ],
      "execution_count": 10,
      "outputs": [
        {
          "output_type": "stream",
          "text": [
            "[[1 2 3]\n",
            " [4 5 6]]\n"
          ],
          "name": "stdout"
        }
      ]
    },
    {
      "cell_type": "code",
      "metadata": {
        "id": "fo-LbpK4SK0b",
        "colab_type": "code",
        "colab": {
          "base_uri": "https://localhost:8080/",
          "height": 85
        },
        "outputId": "f6d9b56c-5d55-4b93-92b3-2c1216799b47"
      },
      "source": [
        "np.zeros((4,3))"
      ],
      "execution_count": 11,
      "outputs": [
        {
          "output_type": "execute_result",
          "data": {
            "text/plain": [
              "array([[0., 0., 0.],\n",
              "       [0., 0., 0.],\n",
              "       [0., 0., 0.],\n",
              "       [0., 0., 0.]])"
            ]
          },
          "metadata": {
            "tags": []
          },
          "execution_count": 11
        }
      ]
    },
    {
      "cell_type": "code",
      "metadata": {
        "id": "t6XGUiHuSK0f",
        "colab_type": "code",
        "colab": {
          "base_uri": "https://localhost:8080/",
          "height": 85
        },
        "outputId": "f1f47a1b-a418-4845-bd9b-407463b7df3d"
      },
      "source": [
        "a1=np.array([(1,2,3),(4,5,6)])\n",
        "print(a1)\n",
        "print(\"first row: \",a1[0])\n",
        "print(\"second row: \",a1[1])\n",
        "print(\"slicing coloum :\",a1[:,0])\n",
        "print(\"slicing coloum :\",a1[:,1])\n"
      ],
      "execution_count": 16,
      "outputs": [
        {
          "output_type": "stream",
          "text": [
            "[[1 2 3]\n",
            " [4 5 6]]\n",
            "first row:  [1 2 3]\n",
            "second row:  [4 5 6]\n"
          ],
          "name": "stdout"
        }
      ]
    },
    {
      "cell_type": "code",
      "metadata": {
        "id": "ipCYv_qcSt_7",
        "colab_type": "code",
        "colab": {
          "base_uri": "https://localhost:8080/",
          "height": 119
        },
        "outputId": "53697177-cf91-495e-fd38-915f5adbf935"
      },
      "source": [
        "\n",
        "a1=np.random.normal(5,1,10)\n",
        "print(a1)\n",
        "print(\"Min value = \",np.min(a1))\n",
        "print(\"Max value = \",np.max(a1))\n",
        "print(\"Mean value = \",np.mean(a1))\n",
        "print(\"median value = \",np.median(a1))"
      ],
      "execution_count": 17,
      "outputs": [
        {
          "output_type": "stream",
          "text": [
            "[3.88812236 5.91047181 7.20879491 5.62279144 6.17760508 5.10449881\n",
            " 5.3063821  4.32944954 6.14983429 5.01401336]\n",
            "Min value =  3.888122361507432\n",
            "Max value =  7.208794910280666\n",
            "Mean value =  5.47119637127823\n",
            "median value =  5.464586770142627\n"
          ],
          "name": "stdout"
        }
      ]
    },
    {
      "cell_type": "code",
      "metadata": {
        "id": "OPCg7vFtWuxU",
        "colab_type": "code",
        "colab": {
          "base_uri": "https://localhost:8080/",
          "height": 51
        },
        "outputId": "0ba5d2b0-2778-4f33-ca4a-34df9737a754"
      },
      "source": [
        "c1=np.array([(1,2),(3,4)])\n",
        "c2=np.array([(3,4),(1,2)])\n",
        "np.dot(c1,c2)"
      ],
      "execution_count": 18,
      "outputs": [
        {
          "output_type": "execute_result",
          "data": {
            "text/plain": [
              "array([[ 5,  8],\n",
              "       [13, 20]])"
            ]
          },
          "metadata": {
            "tags": []
          },
          "execution_count": 18
        }
      ]
    },
    {
      "cell_type": "code",
      "metadata": {
        "id": "xll7tt39bSNO",
        "colab_type": "code",
        "colab": {
          "base_uri": "https://localhost:8080/",
          "height": 136
        },
        "outputId": "3deccbee-26c6-4209-d72c-c5c4cf89bc6d"
      },
      "source": [
        "import pandas as pd\n",
        "dict = {\"Name\":[\"Anil\",\"Akhil\",\"Dinesh\",\"Harsha\",\"Ajay\",\"Kranth\"],\n",
        "        \"EmailID\":[\"anil@gmail.com\",\"akhil@gmail.com\",\"dinesh@gmail.com\",\n",
        "                   \"harsha@gmail.com\",\"ajay@gmail.com\",\"kranth@gmail.com\"],\n",
        "        \"MobileNumber\":[999,888,777,888,777,999],\n",
        "        \"Address\":[\"Hyd\",\"Hyd\",\"Hyd\",\"Hyd\",\"Hyd\",\"Hyd\"]}\n",
        "b=pd.DataFrame(dict)\n",
        "print(b)"
      ],
      "execution_count": 19,
      "outputs": [
        {
          "output_type": "stream",
          "text": [
            "     Name           EmailID  MobileNumber Address\n",
            "0    Anil    anil@gmail.com           999     Hyd\n",
            "1   Akhil   akhil@gmail.com           888     Hyd\n",
            "2  Dinesh  dinesh@gmail.com           777     Hyd\n",
            "3  Harsha  harsha@gmail.com           888     Hyd\n",
            "4    Ajay    ajay@gmail.com           777     Hyd\n",
            "5  Kranth  kranth@gmail.com           999     Hyd\n"
          ],
          "name": "stdout"
        }
      ]
    },
    {
      "cell_type": "code",
      "metadata": {
        "id": "8ltPbeh0xy9U",
        "colab_type": "code",
        "colab": {}
      },
      "source": [
        ""
      ],
      "execution_count": 0,
      "outputs": []
    }
  ]
}